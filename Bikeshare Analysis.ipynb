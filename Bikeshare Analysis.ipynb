{
 "cells": [
  {
   "cell_type": "code",
   "execution_count": 1,
   "id": "2f8d0e95",
   "metadata": {},
   "outputs": [],
   "source": [
    "import time\n",
    "import pandas as pd\n",
    "import numpy as np"
   ]
  },
  {
   "cell_type": "code",
   "execution_count": 2,
   "id": "545cce62",
   "metadata": {},
   "outputs": [],
   "source": [
    "CITY_DATA = { 'chicago': 'chicago.csv',\n",
    "              'new york city': 'new_york_city.csv',\n",
    "              'washington': 'washington.csv' }\n",
    "\n",
    "months = ['january' , 'february' , 'march' , 'april' , 'may' , 'june' , 'all']\n",
    "days = ['monday' , 'tuesday', 'wednesday' , 'thursday', 'friday', 'saturday' , 'sunday', 'all']\n"
   ]
  },
  {
   "cell_type": "code",
   "execution_count": 3,
   "id": "53092193",
   "metadata": {
    "scrolled": false
   },
   "outputs": [],
   "source": [
    "def get_filters(): \n",
    "    \"\"\"\n",
    "    Asks user to specify a city, month, and day to analyze.\n",
    "\n",
    "    Returns:\n",
    "        (str) city - name of the city to analyze\n",
    "        (str) month - name of the month to filter by, or \"all\" to apply no month filter\n",
    "        (str) day - name of the day of week to filter by, or \"all\" to apply no day filter\n",
    "    \"\"\"\n",
    "    \n",
    "    print('Hello! Let\\'s explore some US bikeshare data!')\n",
    "        # TO DO: get user input for city (chicago, new york city, washington). HINT: Use a while loop to handle invalid inputs\n",
    "    while True:\n",
    "        city=input('\\nWhich city data would you like to see? Chicago, New York City or Washington?\\n').lower()\n",
    "        if city not in CITY_DATA:\n",
    "            print('This is not a valid City. Please try again.')\n",
    "        else:\n",
    "            break\n",
    "        # TO DO: get user input for month (all, january, february, ... , june)\n",
    "    while True:\n",
    "        month=input('\\nChoose a month between January and June. Or type \"all\" to see data for all six months.\\n' ).lower()\n",
    "        if month not in months:\n",
    "            print('This is not a valid month. Please try again.')\n",
    "        else:\n",
    "            break\n",
    "        # TO DO: get user input for day of week (all, monday, tuesday, ... sunday)\n",
    "    while True:\n",
    "        day=input('\\nwhich day data would you like to see? You can also type \"all\" to see all the days of the week.\\n' ).lower()\n",
    "        if day not in days:\n",
    "            print('This is not a valid day. Please try again.')\n",
    "        else:\n",
    "            break\n",
    "            #'break' may not be right. Can I do continue instead? No, continue will keep\n",
    "            #repeating the same question...\n",
    "    print('-'*40)   \n",
    "    return city, month, day"
   ]
  },
  {
   "cell_type": "code",
   "execution_count": 4,
   "id": "dd316ed2",
   "metadata": {
    "scrolled": false
   },
   "outputs": [
    {
     "name": "stdout",
     "output_type": "stream",
     "text": [
      "Hello! Let's explore some US bikeshare data!\n",
      "\n",
      "Which city data would you like to see? Chicago, New York City or Washington?\n",
      "New York City\n",
      "\n",
      "Choose a month between January and June. Or type \"all\" to see data for all six months.\n",
      "all\n",
      "\n",
      "which day data would you like to see? You can also type \"all\" to see all the days of the week.\n",
      "all\n",
      "----------------------------------------\n"
     ]
    }
   ],
   "source": [
    "city, month, day = get_filters()"
   ]
  },
  {
   "cell_type": "code",
   "execution_count": 5,
   "id": "d391fc3d",
   "metadata": {},
   "outputs": [
    {
     "data": {
      "text/plain": [
       "('new york city', 'all', 'all')"
      ]
     },
     "execution_count": 5,
     "metadata": {},
     "output_type": "execute_result"
    }
   ],
   "source": [
    "#print city month and day\n",
    "city, month, day"
   ]
  },
  {
   "cell_type": "code",
   "execution_count": 6,
   "id": "07197913",
   "metadata": {},
   "outputs": [],
   "source": [
    "def load_data(city, month, day):\n",
    "    \"\"\"\n",
    "    Loads data for the specified city and filters by month and day if applicable.\n",
    "\n",
    "    Args:\n",
    "        (str) city - name of the city to analyze\n",
    "        (str) month - name of the month to filter by, or \"all\" to apply no month filter\n",
    "        (str) day - name of the day of week to filter by, or \"all\" to apply no day filter\n",
    "    Returns:\n",
    "        df - Pandas DataFrame containing city data filtered by month and day\n",
    "    \"\"\"\n",
    "\n",
    "    # load data file into a dataframe\n",
    "    df = pd.read_csv(CITY_DATA[city])\n",
    "    # convert the Start Time column to datetime\n",
    "    df['Start Time'] = pd.to_datetime(df['Start Time'])\n",
    "    # extract month and day of week from Start Time to create new columns\n",
    "    df['month'] = df['Start Time'].dt.month_name()\n",
    "    df['day_of_week'] = df['Start Time'].dt.day_name()\n",
    "    # filter by month if applicable\n",
    "    if month != 'all':\n",
    "        # use the index of the months list to get the corresponding int\n",
    "        months = ['january', 'february', 'march', 'april', 'may', 'june']\n",
    "        month = months.index(month) + 1\n",
    "        # filter by month to create the new dataframe\n",
    "        df = df[df['month'] == month]\n",
    "    # filter by day of week if applicable\n",
    "    if day != 'all':\n",
    "        # filter by day of week to create the new dataframe\n",
    "        df = df[df['day_of_week'] == day.title()]\n",
    "    return df"
   ]
  },
  {
   "cell_type": "code",
   "execution_count": 7,
   "id": "83530228",
   "metadata": {},
   "outputs": [],
   "source": [
    "df = load_data(city, month, day)"
   ]
  },
  {
   "cell_type": "code",
   "execution_count": null,
   "id": "b64d9e68",
   "metadata": {},
   "outputs": [],
   "source": []
  },
  {
   "cell_type": "code",
   "execution_count": 8,
   "id": "0416bbf8",
   "metadata": {
    "scrolled": true
   },
   "outputs": [],
   "source": [
    "def time_stats(df):\n",
    "    \"\"\"Displays statistics on the most frequent times of travel.\"\"\"\n",
    "\n",
    "    print('\\nCalculating The Most Frequent Times of Travel...\\n')\n",
    "    start_time = time.time()\n",
    "\n",
    "    # convert the Start Time column to datetime\n",
    "    df['Start Time'] = pd.to_datetime(df['Start Time'])\n",
    "    # TO DO: display the most common month\n",
    "    #find common month\n",
    "    common_month = df['month'].mode()[0]\n",
    "    print('The most common month is:' , (common_month))\n",
    "    # TO DO: display the most common day of week\n",
    "    #find common day of week\n",
    "    day = df['day_of_week']\n",
    "    common_day_of_week= df['day_of_week'].mode()[0]\n",
    "    print('The most common day of week is' , (common_day_of_week))\n",
    "    # TO DO: display the most common start hour\n",
    "    # convert the Start Time column to datetime\n",
    "    df['Start Time'] = pd.to_datetime(df['Start Time'])\n",
    "    # extract hour from the Start Time column to create an hour column\n",
    "    df['hour'] = df['Start Time'].dt.hour\n",
    "    # find the most common hour\n",
    "    common_hour = df['hour'].mode()[0]\n",
    "    print('Most Common Start Hour:', (common_hour))\n",
    "    \n",
    "    print(\"\\nThis took %s seconds.\" % (time.time() - start_time))\n",
    "    print('-'*40)"
   ]
  },
  {
   "cell_type": "code",
   "execution_count": 9,
   "id": "e9572af0",
   "metadata": {},
   "outputs": [
    {
     "name": "stdout",
     "output_type": "stream",
     "text": [
      "\n",
      "Calculating The Most Frequent Times of Travel...\n",
      "\n",
      "The most common month is: June\n",
      "The most common day of week is Wednesday\n",
      "Most Common Start Hour: 17\n",
      "\n",
      "This took 0.8773391246795654 seconds.\n",
      "----------------------------------------\n"
     ]
    }
   ],
   "source": [
    "#call function\n",
    "time_stats(df)"
   ]
  },
  {
   "cell_type": "code",
   "execution_count": 10,
   "id": "933c4592",
   "metadata": {
    "scrolled": false
   },
   "outputs": [],
   "source": [
    "def station_stats(df):\n",
    "    \"\"\"Displays statistics on the most popular stations and trip.\"\"\"\n",
    "\n",
    "    print('\\nCalculating The Most Popular Stations and Trip...\\n')\n",
    "    start_time = time.time()\n",
    "    # TO DO: display most commonly used start station\n",
    "    common_start_station = df['Start Station'].mode()[0]\n",
    "    print('The most commonly used Start Station is:' , (common_start_station))\n",
    "    # TO DO: display most commonly used end station\n",
    "    common_end_station = df['End Station'].mode()[0]\n",
    "    print('The most commonly used End Station is:' , (common_end_station))\n",
    "    # TO DO: display most frequent combination of start station and end station trip using the + operator\n",
    "    frequent_trip_comb = (df['Start Station'] + df['End Station']).mode()[0]\n",
    "    print('The most frequent combination of Start Station and End Station Trip is:' , (frequent_trip_comb))\n",
    "\n",
    "    print(\"\\nThis took %s seconds.\" % (time.time() - start_time))\n",
    "    print('-'*40)  "
   ]
  },
  {
   "cell_type": "code",
   "execution_count": 11,
   "id": "8c0a6acf",
   "metadata": {},
   "outputs": [
    {
     "name": "stdout",
     "output_type": "stream",
     "text": [
      "\n",
      "Calculating The Most Popular Stations and Trip...\n",
      "\n",
      "The most commonly used Start Station is: Pershing Square North\n",
      "The most commonly used End Station is: Pershing Square North\n",
      "The most frequent combination of Start Station and End Station Trip is: E 7 St & Avenue ACooper Square & E 7 St\n",
      "\n",
      "This took 0.25014305114746094 seconds.\n",
      "----------------------------------------\n"
     ]
    }
   ],
   "source": [
    "#call function\n",
    "station_stats(df)"
   ]
  },
  {
   "cell_type": "code",
   "execution_count": 12,
   "id": "5b3662c9",
   "metadata": {
    "scrolled": true
   },
   "outputs": [],
   "source": [
    "def trip_duration_stats(df):\n",
    "    \"\"\"Displays statistics on the total and average trip duration.\"\"\"\n",
    "\n",
    "    print('\\nCalculating Trip Duration...\\n')\n",
    "    start_time = time.time()\n",
    "\n",
    "    # TO DO: display total travel time\n",
    "    total_travel_time = df['Trip Duration'].sum()\n",
    "    print('The total travel time is:' , (total_travel_time))\n",
    "    # TO DO: display mean travel time\n",
    "    mean_travel_time = df['Trip Duration'].mean()\n",
    "    print('The mean travel time is:' , (mean_travel_time))\n",
    "\n",
    "    print(\"\\nThis took %s seconds.\" % (time.time() - start_time))\n",
    "    print('-'*40)"
   ]
  },
  {
   "cell_type": "code",
   "execution_count": 13,
   "id": "83edd366",
   "metadata": {},
   "outputs": [
    {
     "name": "stdout",
     "output_type": "stream",
     "text": [
      "\n",
      "Calculating Trip Duration...\n",
      "\n",
      "The total travel time is: 269905248\n",
      "The mean travel time is: 899.68416\n",
      "\n",
      "This took 0.21569132804870605 seconds.\n",
      "----------------------------------------\n"
     ]
    }
   ],
   "source": [
    "#call function\n",
    "trip_duration_stats(df)"
   ]
  },
  {
   "cell_type": "code",
   "execution_count": 14,
   "id": "a56d3feb",
   "metadata": {
    "scrolled": true
   },
   "outputs": [],
   "source": [
    "def user_stats(df):\n",
    "    \"\"\"Displays statistics on bikeshare users.\"\"\"\n",
    "\n",
    "    print('\\nCalculating User Stats...\\n')\n",
    "    start_time = time.time()\n",
    "\n",
    "    # TO DO: Display counts of user types\n",
    "    counts_user_types = df['User Type'].value_counts()\n",
    "    print('\\nThe count of user types is:\\n', (counts_user_types))\n",
    "\n",
    "    # TO DO: Display counts of gender\n",
    "    if 'Gender' not in df:\n",
    "        print('\\nThere is no Gender data for this city\\n')\n",
    "    else:\n",
    "        counts_gender = df['Gender'].value_counts()\n",
    "        print('\\nThe count of gender is:', (counts_gender))\n",
    "\n",
    "    # TO DO: Display earliest, most recent, and most common year of birth\n",
    "\n",
    "    #earliest year of birth\n",
    "\n",
    "    if 'Birth Year' not in df:\n",
    "        print('There is no Birth Year data for this city. No earliest birth year will be provided.')\n",
    "    else:        \n",
    "        earliest_year = df['Birth Year'].min()\n",
    "        print('\\nThe earliest year of birth is:' , (earliest_year)) \n",
    "\n",
    "    #most recent year of birth\n",
    "    if 'Birth Year' not in df:\n",
    "        print('There is no Birth Year data for this city. No recent birth year will be provided.')\n",
    "    else:\n",
    "        recent_year = df['Birth Year'].max()\n",
    "        print('The most recent year of birth is:' , (recent_year)) \n",
    "\n",
    "\n",
    "    #most common year of birth\n",
    "\n",
    "    if 'Birth Year' not in df:\n",
    "        print('There is no Birth Year data for this city. No common birth year will be provided.\\n')\n",
    "    else:\n",
    "        common_year = df['Birth Year'].mode()[0]\n",
    "        print('The most common year of birth is:' , (common_year)) \n",
    "    print(\"\\nThis took %s seconds.\" % (time.time() - start_time))\n",
    "    print('-'*40)"
   ]
  },
  {
   "cell_type": "code",
   "execution_count": 15,
   "id": "6223d165",
   "metadata": {},
   "outputs": [
    {
     "name": "stdout",
     "output_type": "stream",
     "text": [
      "\n",
      "Calculating User Stats...\n",
      "\n",
      "\n",
      "The count of user types is:\n",
      " Subscriber    269149\n",
      "Customer       30159\n",
      "Name: User Type, dtype: int64\n",
      "\n",
      "The count of gender is: Male      204008\n",
      "Female     66783\n",
      "Name: Gender, dtype: int64\n",
      "\n",
      "The earliest year of birth is: 1885.0\n",
      "The most recent year of birth is: 2001.0\n",
      "The most common year of birth is: 1989.0\n",
      "\n",
      "This took 0.18370270729064941 seconds.\n",
      "----------------------------------------\n"
     ]
    }
   ],
   "source": [
    "#call function\n",
    "user_stats(df)"
   ]
  },
  {
   "cell_type": "code",
   "execution_count": 16,
   "id": "c4edfd11",
   "metadata": {
    "scrolled": false
   },
   "outputs": [
    {
     "name": "stdout",
     "output_type": "stream",
     "text": [
      "\n",
      "Would you like to see raw data for the city you selected? Enter yes or no.\n",
      "yes\n",
      "   Unnamed: 0          Start Time             End Time  Trip Duration  \\\n",
      "0     5688089 2017-06-11 14:55:05  2017-06-11 15:08:21            795   \n",
      "1     4096714 2017-05-11 15:30:11  2017-05-11 15:41:43            692   \n",
      "2     2173887 2017-03-29 13:26:26  2017-03-29 13:48:31           1325   \n",
      "3     3945638 2017-05-08 19:47:18  2017-05-08 19:59:01            703   \n",
      "4     6208972 2017-06-21 07:49:16  2017-06-21 07:54:46            329   \n",
      "\n",
      "             Start Station             End Station   User Type  Gender  \\\n",
      "0  Suffolk St & Stanton St  W Broadway & Spring St  Subscriber    Male   \n",
      "1  Lexington Ave & E 63 St         1 Ave & E 78 St  Subscriber    Male   \n",
      "2        1 Pl & Clinton St    Henry St & Degraw St  Subscriber    Male   \n",
      "3    Barrow St & Hudson St         W 20 St & 8 Ave  Subscriber  Female   \n",
      "4          1 Ave & E 44 St         E 53 St & 3 Ave  Subscriber    Male   \n",
      "\n",
      "   Birth Year  month day_of_week  hour  \n",
      "0      1998.0   June      Sunday    14  \n",
      "1      1981.0    May    Thursday    15  \n",
      "2      1987.0  March   Wednesday    13  \n",
      "3      1986.0    May      Monday    19  \n",
      "4      1992.0   June   Wednesday     7  \n",
      "\n",
      "Would you like to see raw data for the city you selected? Enter yes or no.\n",
      "no\n"
     ]
    }
   ],
   "source": [
    "def get_raw_data(df):\n",
    "    \"\"\"Display 5 lines of raw data upon user's request\"\"\"\n",
    "    pd.set_option('display.max_columns',200)\n",
    "    i = 0\n",
    "\n",
    "    while True:\n",
    "        raw_data = input('\\nWould you like to see raw data for the city you selected? Enter yes or no.\\n').lower() \n",
    "        if raw_data == 'yes':\n",
    "             print(df.iloc[i:i+5])\n",
    "             #as user keeps saying yes, add 5 more lines        \n",
    "             i+=5\n",
    "        if raw_data == 'no':\n",
    "            break\n",
    "#calling the function\n",
    "get_raw_data(df)"
   ]
  },
  {
   "cell_type": "code",
   "execution_count": null,
   "id": "ca2102f4",
   "metadata": {},
   "outputs": [
    {
     "name": "stdout",
     "output_type": "stream",
     "text": [
      "Hello! Let's explore some US bikeshare data!\n"
     ]
    }
   ],
   "source": [
    "def main():\n",
    "    while True:\n",
    "        city, month, day = get_filters()\n",
    "        df = load_data(city, month, day)\n",
    "\n",
    "        time_stats(df)\n",
    "        station_stats(df)\n",
    "        trip_duration_stats(df)\n",
    "        user_stats(df)\n",
    "        #add call to display raw data\n",
    "        get_raw_data(df)\n",
    "        restart = input('\\nWould you like to restart? Enter yes or no.\\n')\n",
    "        if restart.lower() != 'yes':\n",
    "            break\n",
    "if __name__ == \"__main__\":\n",
    "\tmain()            "
   ]
  }
 ],
 "metadata": {
  "kernelspec": {
   "display_name": "Python 3 (ipykernel)",
   "language": "python",
   "name": "python3"
  },
  "language_info": {
   "codemirror_mode": {
    "name": "ipython",
    "version": 3
   },
   "file_extension": ".py",
   "mimetype": "text/x-python",
   "name": "python",
   "nbconvert_exporter": "python",
   "pygments_lexer": "ipython3",
   "version": "3.9.12"
  }
 },
 "nbformat": 4,
 "nbformat_minor": 5
}
